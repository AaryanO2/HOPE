{
 "cells": [
  {
   "cell_type": "markdown",
   "id": "5ad49769-84d6-4723-b39f-c0f81417161e",
   "metadata": {},
   "source": [
    "# LLM - Hope"
   ]
  },
  {
   "cell_type": "code",
   "execution_count": 2,
   "id": "3c019b9f-e0d1-4539-baba-af1a254d95f1",
   "metadata": {
    "tags": []
   },
   "outputs": [
    {
     "name": "stderr",
     "output_type": "stream",
     "text": [
      "C:\\Users\\ataar\\anaconda3\\lib\\site-packages\\paramiko\\transport.py:219: CryptographyDeprecationWarning: Blowfish has been deprecated\n",
      "  \"class\": algorithms.Blowfish,\n"
     ]
    }
   ],
   "source": [
    "from langchain.document_loaders.csv_loader import CSVLoader\n",
    "from langchain.vectorstores import FAISS\n",
    "from langchain.memory import ChatMessageHistory\n",
    "from langchain.prompts import PromptTemplate\n",
    "from langchain.chains import LLMChain\n",
    "from dotenv import load_dotenv\n",
    "from gensim.models import Word2Vec\n",
    "from gensim.utils import simple_preprocess\n",
    "import numpy as np\n",
    "from langchain_google_genai import ChatGoogleGenerativeAI\n",
    "from langchain_google_genai import GoogleGenerativeAIEmbeddings"
   ]
  },
  {
   "cell_type": "code",
   "execution_count": 3,
   "id": "e2c1bdf8-1552-4a42-a84c-59d2530d135a",
   "metadata": {
    "tags": []
   },
   "outputs": [],
   "source": [
    "import os\n",
    "os.environ['GOOGLE_API_KEY']=\"Your Key"
   ]
  },
  {
   "cell_type": "code",
   "execution_count": 4,
   "id": "b4e49f17-9d1e-4626-9b32-58831755c983",
   "metadata": {
    "tags": []
   },
   "outputs": [],
   "source": [
    "import google.generativeai as genai\n",
    "from IPython.display import display\n",
    "from IPython.display import Markdown"
   ]
  },
  {
   "cell_type": "code",
   "execution_count": 5,
   "id": "ca61f852-44a1-4a1e-8ba7-39b143e6a423",
   "metadata": {
    "tags": []
   },
   "outputs": [],
   "source": [
    "genai.configure(api_key=os.environ[\"GOOGLE_API_KEY\"])\n",
    "\n",
    "models = [m for m in genai.list_models()]\n",
    "\n",
    "model = genai.GenerativeModel('gemini-pro')"
   ]
  },
  {
   "cell_type": "markdown",
   "id": "611127cc-08bb-4876-85e1-416e45dc0137",
   "metadata": {
    "tags": []
   },
   "source": [
    "response = model.generate_content(\"hi\")\n",
    "\n",
    "print(response.text)"
   ]
  },
  {
   "cell_type": "code",
   "execution_count": 6,
   "id": "6d6717d9-bd94-4a23-84b3-2157e2baea07",
   "metadata": {},
   "outputs": [],
   "source": [
    "loader = CSVLoader(file_path =\"psychological_conversations.csv\",encoding = 'utf8')\n",
    "documents = loader.load()"
   ]
  },
  {
   "cell_type": "markdown",
   "id": "33b6ee97-678b-4cdb-b7b7-62c4f4de4b3d",
   "metadata": {},
   "source": [
    "- \"conda install faiss-gpu -c pytorch\"    \n",
    "might be needed in collab if doesnt work try  \n",
    "\"pip install faiss-gpu\""
   ]
  },
  {
   "cell_type": "code",
   "execution_count": 7,
   "id": "e9f53349-b83e-46a6-a92d-e892ca16bcd3",
   "metadata": {
    "tags": []
   },
   "outputs": [],
   "source": [
    "embeddings = GoogleGenerativeAIEmbeddings(model = 'models/embedding-001')\n",
    "db = FAISS.from_documents(documents,embedding = embeddings)  "
   ]
  },
  {
   "cell_type": "markdown",
   "id": "6df351d7-d761-45a3-815b-74ff9d4858d1",
   "metadata": {
    "tags": []
   },
   "source": [
    "- ### Pass a query to get results by similarity search"
   ]
  },
  {
   "cell_type": "code",
   "execution_count": 8,
   "id": "481224e5-1fbe-4380-840b-1d2e18debdff",
   "metadata": {
    "tags": []
   },
   "outputs": [],
   "source": [
    "def retrieve_info(query):\n",
    "    similar_response = db.similarity_search(query,3)\n",
    "    contents = [doc.page_content for doc in similar_response]\n",
    "    return contents"
   ]
  },
  {
   "cell_type": "markdown",
   "id": "b166827e-5650-497a-aaed-22616c756581",
   "metadata": {},
   "source": [
    "- ### Test"
   ]
  },
  {
   "cell_type": "code",
   "execution_count": 9,
   "id": "78020696-da57-46fd-97ff-a98bb433e3fa",
   "metadata": {
    "tags": []
   },
   "outputs": [
    {
     "name": "stdout",
     "output_type": "stream",
     "text": [
      "[\"questionText: \\nanswerText: Its possible you're distracting yourself from pressing matters within yourself when you're together with friends.Practice having time by yourself so you can address the basics questions you ask here. \\xa0Your questions are good ones.Be prepared to surprise yourself with the answers which emerge. \\xa0The more you learn and understand yourself, the less you'll feel a need to distract yourself. \\xa0Then you can have time with friends for its own enjoyments sake.\", \"questionText: After my aunt passed away, I feel like I'm a different person. I don't talk to my friends really. How do I deal with depression?\\nanswerText: \", 'questionText: Is this something I should be worried about? Should I do something about it? My son plays alone at recess\\nanswerText: I recommend asking your son about the reasons he chooses to play alone at recess. If he is happy on his own and you know he has some friends, I would not be very concerned. However, there may be bullying going on at school. In the case of bullying, it may be a situation where you as his parent will need to step in.']\n"
     ]
    }
   ],
   "source": [
    "customer_message  = \"I usually dont have much to do so i spend most of my time alone since i have no friends at school\"\n",
    "results = retrieve_info(customer_message)\n",
    "print(results); "
   ]
  },
  {
   "cell_type": "code",
   "execution_count": 10,
   "id": "7da6e196-67dd-439c-90b8-517c2476d591",
   "metadata": {
    "tags": []
   },
   "outputs": [],
   "source": [
    "llm = ChatGoogleGenerativeAI(model=\"gemini-pro\")\n",
    "history = ChatMessageHistory()"
   ]
  },
  {
   "cell_type": "code",
   "execution_count": 11,
   "id": "4e81c8d4-87e8-465e-aec8-e4320125d114",
   "metadata": {
    "tags": []
   },
   "outputs": [],
   "source": [
    "template = template = \"\"\"As a world-class therapist working in a college, your job is to be as friendly as possible to the students and engage in conversational interactions with them to learn more about them. To achieve this, please adhere to the following rules:\n",
    "\n",
    "1. Base your responses on similar text from the past that I provide you.\n",
    "2. If past texts are irrelevant, try and respond with a friendly relavant answer.\n",
    "3. Keep the conversation open by engaging interactively. Don't just listen; ask questions to keep the conversation going.\n",
    "4. Be supportive and take a realistic approach. Avoid saying negative things.\n",
    "5. Ask normal questions; avoid questions that require effort from the student to answer, such as 'What would you like to talk about?' or 'What do you want to do?'\n",
    "\n",
    "The chat should not feel like a therapy session but rather like talking to a friend.\n",
    "\n",
    "Here is the message from the student:\n",
    "{message}\n",
    "\n",
    "And here are the past text conversations:\n",
    "{best_practice}\n",
    "\"\"\"\n"
   ]
  },
  {
   "cell_type": "code",
   "execution_count": 12,
   "id": "74561850-fc74-4253-b23a-85a3cad91a76",
   "metadata": {
    "tags": []
   },
   "outputs": [],
   "source": [
    "prompt = PromptTemplate(\n",
    "    input_variables = [\"message\",\"best_practice\"],\n",
    "    template = template\n",
    ")"
   ]
  },
  {
   "cell_type": "code",
   "execution_count": 13,
   "id": "95370d12-dacc-44c8-9a65-01c3f6b2b402",
   "metadata": {
    "tags": []
   },
   "outputs": [],
   "source": [
    "chain = LLMChain(llm = llm, prompt = prompt)"
   ]
  },
  {
   "cell_type": "code",
   "execution_count": 14,
   "id": "888bd442-148a-457c-99b1-2e5ae21aebf9",
   "metadata": {
    "tags": []
   },
   "outputs": [],
   "source": [
    "def generate_response(message):\n",
    "    best_practice = retrieve_info(message)\n",
    "    response = chain.run(message = message, best_practice = best_practice)\n",
    "    history.add_user_message(message)\n",
    "    history.add_ai_message(response)\n",
    "    return response"
   ]
  },
  {
   "cell_type": "code",
   "execution_count": null,
   "id": "965f5eef-df8a-4767-90c4-39907992847c",
   "metadata": {
    "tags": []
   },
   "outputs": [
    {
     "name": "stdin",
     "output_type": "stream",
     "text": [
      "Message:  HI\n"
     ]
    },
    {
     "name": "stderr",
     "output_type": "stream",
     "text": [
      "C:\\Users\\ataar\\anaconda3\\lib\\site-packages\\langchain_core\\_api\\deprecation.py:117: LangChainDeprecationWarning: The function `run` was deprecated in LangChain 0.1.0 and will be removed in 0.2.0. Use invoke instead.\n",
      "  warn_deprecated(\n"
     ]
    },
    {
     "name": "stdout",
     "output_type": "stream",
     "text": [
      "Hey there! It's nice to meet you. I'm always happy to chat with students and learn more about them. How are you doing today?\n"
     ]
    },
    {
     "name": "stdin",
     "output_type": "stream",
     "text": [
      "Message:  Not good  i just got injured\n"
     ]
    },
    {
     "name": "stdout",
     "output_type": "stream",
     "text": [
      "I'm sorry to hear that you got hurt. What happened?\n"
     ]
    },
    {
     "name": "stdin",
     "output_type": "stream",
     "text": [
      "Message:  i fell in the ground\n"
     ]
    },
    {
     "name": "stdout",
     "output_type": "stream",
     "text": [
      "Oh, no! Are you okay?\n"
     ]
    },
    {
     "name": "stdin",
     "output_type": "stream",
     "text": [
      "Message:  wich medicine should i use for my injury on knee\n"
     ]
    },
    {
     "name": "stdout",
     "output_type": "stream",
     "text": [
      "I'm sorry to hear about your knee injury. I'm not a medical professional, so I can't recommend any specific medications. However, I can help you find a doctor or other healthcare provider who can help you with your injury. Would you like me to do that?\n"
     ]
    },
    {
     "name": "stdin",
     "output_type": "stream",
     "text": [
      "Message:  I lost an important badminton tournament today. I feel very bad what should I do ?\n"
     ]
    },
    {
     "name": "stdout",
     "output_type": "stream",
     "text": [
      "I understand that you're feeling bad after losing an important badminton tournament today. It's natural to feel disappointed and upset when you don't achieve your goals, especially when you've worked hard for them.\n",
      "\n",
      "First, it's important to acknowledge your feelings and allow yourself to grieve the loss of the tournament. Don't try to suppress or ignore your emotions. Allow yourself to feel the disappointment and sadness.\n",
      "\n",
      "Once you've allowed yourself to grieve, you can start to focus on learning from the experience. What could you have done differently to prepare for the tournament? What are your strengths and weaknesses as a badminton player? Use this experience as an opportunity to grow and improve.\n",
      "\n",
      "Finally, don't be afraid to seek support from others. Talk to your friends, family, or a therapist about how you're feeling. They can offer you support and encouragement.\n",
      "\n",
      "Remember, everyone experiences setbacks and disappointments in life. It's how you respond to these challenges that matters. Use this experience as an opportunity to learn and grow, and you'll come back stronger than ever before.\n"
     ]
    }
   ],
   "source": [
    "while customer_message != \"Bye\":\n",
    "    customer_message = input(\"Message: \")\n",
    "    response = generate_response(customer_message)\n",
    "    print(response)\n",
    "    customer_message = \"\""
   ]
  },
  {
   "cell_type": "code",
   "execution_count": null,
   "id": "74ed0870-f2fc-40df-b068-79671c982556",
   "metadata": {},
   "outputs": [],
   "source": []
  },
  {
   "cell_type": "code",
   "execution_count": null,
   "id": "53b2690f-2a51-42c8-a605-c74ffe5de86b",
   "metadata": {},
   "outputs": [],
   "source": []
  }
 ],
 "metadata": {
  "kernelspec": {
   "display_name": "Python 3 (ipykernel)",
   "language": "python",
   "name": "python3"
  },
  "language_info": {
   "codemirror_mode": {
    "name": "ipython",
    "version": 3
   },
   "file_extension": ".py",
   "mimetype": "text/x-python",
   "name": "python",
   "nbconvert_exporter": "python",
   "pygments_lexer": "ipython3",
   "version": "3.9.18"
  }
 },
 "nbformat": 4,
 "nbformat_minor": 5
}
